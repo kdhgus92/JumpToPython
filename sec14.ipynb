{
 "metadata": {
  "language_info": {
   "codemirror_mode": {
    "name": "ipython",
    "version": 3
   },
   "file_extension": ".py",
   "mimetype": "text/x-python",
   "name": "python",
   "nbconvert_exporter": "python",
   "pygments_lexer": "ipython3",
   "version": "3.8.3-final"
  },
  "orig_nbformat": 2,
  "kernelspec": {
   "name": "Python 3.8.3 64-bit ('base': conda)",
   "display_name": "Python 3.8.3 64-bit ('base': conda)",
   "metadata": {
    "interpreter": {
     "hash": "97b329c2fb1e883d000f5a734d37e8c4bd350154ae5a738b8fcfe027b2f6eeab"
    }
   }
  }
 },
 "nbformat": 4,
 "nbformat_minor": 2,
 "cells": [
  {
   "cell_type": "code",
   "execution_count": 1,
   "metadata": {},
   "outputs": [],
   "source": [
    "from collections import Counter"
   ]
  },
  {
   "cell_type": "code",
   "execution_count": 2,
   "metadata": {},
   "outputs": [],
   "source": [
    "mylist = [1,1,1,1,2,2,2,2,3,3,3,3,3]"
   ]
  },
  {
   "cell_type": "code",
   "execution_count": 3,
   "metadata": {},
   "outputs": [
    {
     "output_type": "execute_result",
     "data": {
      "text/plain": [
       "Counter({1: 4, 2: 4, 3: 5})"
      ]
     },
     "metadata": {},
     "execution_count": 3
    }
   ],
   "source": [
    "Counter(mylist)"
   ]
  },
  {
   "cell_type": "code",
   "execution_count": 4,
   "metadata": {},
   "outputs": [],
   "source": [
    "mylist = ['a','a','a',10,10,10]"
   ]
  },
  {
   "cell_type": "code",
   "execution_count": 5,
   "metadata": {},
   "outputs": [
    {
     "output_type": "execute_result",
     "data": {
      "text/plain": [
       "Counter({'a': 3, 10: 3})"
      ]
     },
     "metadata": {},
     "execution_count": 5
    }
   ],
   "source": [
    "Counter(mylist)"
   ]
  },
  {
   "cell_type": "code",
   "execution_count": 6,
   "metadata": {},
   "outputs": [
    {
     "output_type": "execute_result",
     "data": {
      "text/plain": [
       "Counter({'a': 6, 'b': 5, 'c': 3, 's': 1, 'd': 2, 'f': 3, 'w': 1, 'e': 1})"
      ]
     },
     "metadata": {},
     "execution_count": 6
    }
   ],
   "source": [
    "Counter('aaaabbbbbcccsdfawefdfa')"
   ]
  },
  {
   "cell_type": "code",
   "execution_count": 7,
   "metadata": {},
   "outputs": [],
   "source": [
    "sentence = \"How many times does each word show up in this sentence with a word\""
   ]
  },
  {
   "cell_type": "code",
   "execution_count": 10,
   "metadata": {},
   "outputs": [
    {
     "output_type": "execute_result",
     "data": {
      "text/plain": [
       "Counter({'how': 1,\n",
       "         'many': 1,\n",
       "         'times': 1,\n",
       "         'does': 1,\n",
       "         'each': 1,\n",
       "         'word': 2,\n",
       "         'show': 1,\n",
       "         'up': 1,\n",
       "         'in': 1,\n",
       "         'this': 1,\n",
       "         'sentence': 1,\n",
       "         'with': 1,\n",
       "         'a': 1})"
      ]
     },
     "metadata": {},
     "execution_count": 10
    }
   ],
   "source": [
    "Counter(sentence.lower().split())"
   ]
  },
  {
   "cell_type": "code",
   "execution_count": 11,
   "metadata": {},
   "outputs": [],
   "source": [
    "letters = 'aaabbbbdccccsdadfadd'"
   ]
  },
  {
   "cell_type": "code",
   "execution_count": 12,
   "metadata": {},
   "outputs": [],
   "source": [
    "c=Counter(letters)"
   ]
  },
  {
   "cell_type": "code",
   "execution_count": 13,
   "metadata": {},
   "outputs": [
    {
     "output_type": "execute_result",
     "data": {
      "text/plain": [
       "Counter({'a': 5, 'b': 4, 'd': 5, 'c': 4, 's': 1, 'f': 1})"
      ]
     },
     "metadata": {},
     "execution_count": 13
    }
   ],
   "source": [
    "c"
   ]
  },
  {
   "cell_type": "code",
   "execution_count": 15,
   "metadata": {},
   "outputs": [
    {
     "output_type": "execute_result",
     "data": {
      "text/plain": [
       "[('a', 5), ('d', 5)]"
      ]
     },
     "metadata": {},
     "execution_count": 15
    }
   ],
   "source": [
    "c.most_common(2)"
   ]
  },
  {
   "cell_type": "code",
   "execution_count": 16,
   "metadata": {},
   "outputs": [
    {
     "output_type": "execute_result",
     "data": {
      "text/plain": [
       "Counter({'a': 5, 'b': 4, 'd': 5, 'c': 4, 's': 1, 'f': 1})"
      ]
     },
     "metadata": {},
     "execution_count": 16
    }
   ],
   "source": [
    "c"
   ]
  },
  {
   "cell_type": "code",
   "execution_count": 17,
   "metadata": {},
   "outputs": [
    {
     "output_type": "execute_result",
     "data": {
      "text/plain": [
       "['a', 'b', 'd', 'c', 's', 'f']"
      ]
     },
     "metadata": {},
     "execution_count": 17
    }
   ],
   "source": [
    "list(c)"
   ]
  },
  {
   "cell_type": "code",
   "execution_count": 18,
   "metadata": {},
   "outputs": [],
   "source": [
    "from collections import defaultdict"
   ]
  },
  {
   "cell_type": "code",
   "execution_count": 19,
   "metadata": {},
   "outputs": [],
   "source": [
    "d = {'a':10}"
   ]
  },
  {
   "cell_type": "code",
   "execution_count": 20,
   "metadata": {},
   "outputs": [
    {
     "output_type": "execute_result",
     "data": {
      "text/plain": [
       "{'a': 10}"
      ]
     },
     "metadata": {},
     "execution_count": 20
    }
   ],
   "source": [
    "d"
   ]
  },
  {
   "cell_type": "code",
   "execution_count": 21,
   "metadata": {},
   "outputs": [
    {
     "output_type": "execute_result",
     "data": {
      "text/plain": [
       "10"
      ]
     },
     "metadata": {},
     "execution_count": 21
    }
   ],
   "source": [
    "d['a']"
   ]
  },
  {
   "cell_type": "code",
   "execution_count": 22,
   "metadata": {},
   "outputs": [
    {
     "output_type": "error",
     "ename": "KeyError",
     "evalue": "'WRONG'",
     "traceback": [
      "\u001b[1;31m---------------------------------------------------------------------------\u001b[0m",
      "\u001b[1;31mKeyError\u001b[0m                                  Traceback (most recent call last)",
      "\u001b[1;32m<ipython-input-22-4006d83773ae>\u001b[0m in \u001b[0;36m<module>\u001b[1;34m\u001b[0m\n\u001b[1;32m----> 1\u001b[1;33m \u001b[0md\u001b[0m\u001b[1;33m[\u001b[0m\u001b[1;34m'WRONG'\u001b[0m\u001b[1;33m]\u001b[0m\u001b[1;33m\u001b[0m\u001b[1;33m\u001b[0m\u001b[0m\n\u001b[0m",
      "\u001b[1;31mKeyError\u001b[0m: 'WRONG'"
     ]
    }
   ],
   "source": [
    "d['WRONG']"
   ]
  },
  {
   "cell_type": "code",
   "execution_count": 23,
   "metadata": {},
   "outputs": [],
   "source": [
    "d = defaultdict(lambda: 0)"
   ]
  },
  {
   "cell_type": "code",
   "execution_count": 24,
   "metadata": {},
   "outputs": [],
   "source": [
    "d['correct'] = 100"
   ]
  },
  {
   "cell_type": "code",
   "execution_count": 26,
   "metadata": {},
   "outputs": [
    {
     "output_type": "execute_result",
     "data": {
      "text/plain": [
       "100"
      ]
     },
     "metadata": {},
     "execution_count": 26
    }
   ],
   "source": [
    "d['correct']"
   ]
  },
  {
   "cell_type": "code",
   "execution_count": 27,
   "metadata": {},
   "outputs": [
    {
     "output_type": "execute_result",
     "data": {
      "text/plain": [
       "0"
      ]
     },
     "metadata": {},
     "execution_count": 27
    }
   ],
   "source": [
    "d['WRONG KEY!']"
   ]
  },
  {
   "cell_type": "code",
   "execution_count": 28,
   "metadata": {},
   "outputs": [
    {
     "output_type": "execute_result",
     "data": {
      "text/plain": [
       "defaultdict(<function __main__.<lambda>()>, {'correct': 100, 'WRONG KEY!': 0})"
      ]
     },
     "metadata": {},
     "execution_count": 28
    }
   ],
   "source": [
    "d"
   ]
  },
  {
   "cell_type": "code",
   "execution_count": 29,
   "metadata": {},
   "outputs": [],
   "source": [
    "mytuple = (10,20,30)"
   ]
  },
  {
   "cell_type": "code",
   "execution_count": 30,
   "metadata": {},
   "outputs": [
    {
     "output_type": "execute_result",
     "data": {
      "text/plain": [
       "10"
      ]
     },
     "metadata": {},
     "execution_count": 30
    }
   ],
   "source": [
    "mytuple[0]"
   ]
  },
  {
   "cell_type": "code",
   "execution_count": 31,
   "metadata": {},
   "outputs": [],
   "source": [
    "from collections import namedtuple"
   ]
  },
  {
   "cell_type": "code",
   "execution_count": 32,
   "metadata": {},
   "outputs": [],
   "source": [
    "Dog = namedtuple('Dog',['age','breed','name'])"
   ]
  },
  {
   "cell_type": "code",
   "execution_count": 33,
   "metadata": {},
   "outputs": [],
   "source": [
    "sammy = Dog(age = 5, breed = 'Husky',name='Sam')"
   ]
  },
  {
   "cell_type": "code",
   "execution_count": 34,
   "metadata": {},
   "outputs": [
    {
     "output_type": "execute_result",
     "data": {
      "text/plain": [
       "__main__.Dog"
      ]
     },
     "metadata": {},
     "execution_count": 34
    }
   ],
   "source": [
    "type(sammy)"
   ]
  },
  {
   "cell_type": "code",
   "execution_count": 35,
   "metadata": {},
   "outputs": [
    {
     "output_type": "execute_result",
     "data": {
      "text/plain": [
       "Dog(age=5, breed='Husky', name='Sam')"
      ]
     },
     "metadata": {},
     "execution_count": 35
    }
   ],
   "source": [
    "sammy"
   ]
  },
  {
   "cell_type": "code",
   "execution_count": 36,
   "metadata": {},
   "outputs": [
    {
     "output_type": "execute_result",
     "data": {
      "text/plain": [
       "5"
      ]
     },
     "metadata": {},
     "execution_count": 36
    }
   ],
   "source": [
    "sammy.age"
   ]
  },
  {
   "cell_type": "code",
   "execution_count": 37,
   "metadata": {},
   "outputs": [
    {
     "output_type": "execute_result",
     "data": {
      "text/plain": [
       "'Husky'"
      ]
     },
     "metadata": {},
     "execution_count": 37
    }
   ],
   "source": [
    "sammy.breed"
   ]
  },
  {
   "cell_type": "code",
   "execution_count": 38,
   "metadata": {},
   "outputs": [
    {
     "output_type": "execute_result",
     "data": {
      "text/plain": [
       "5"
      ]
     },
     "metadata": {},
     "execution_count": 38
    }
   ],
   "source": [
    "sammy[0]"
   ]
  },
  {
   "cell_type": "code",
   "execution_count": 1,
   "metadata": {},
   "outputs": [
    {
     "output_type": "execute_result",
     "data": {
      "text/plain": [
       "'c:\\\\doit'"
      ]
     },
     "metadata": {},
     "execution_count": 1
    }
   ],
   "source": [
    "pwd"
   ]
  },
  {
   "cell_type": "code",
   "execution_count": 5,
   "metadata": {},
   "outputs": [],
   "source": [
    "f = open('practie.txt','w+')\n",
    "f.write('This is a test string')\n",
    "f.close()"
   ]
  },
  {
   "cell_type": "code",
   "execution_count": 6,
   "metadata": {},
   "outputs": [],
   "source": [
    "import os"
   ]
  },
  {
   "cell_type": "code",
   "execution_count": 7,
   "metadata": {},
   "outputs": [
    {
     "output_type": "execute_result",
     "data": {
      "text/plain": [
       "'c:\\\\doit'"
      ]
     },
     "metadata": {},
     "execution_count": 7
    }
   ],
   "source": [
    "os.getcwd()"
   ]
  },
  {
   "cell_type": "code",
   "execution_count": 11,
   "metadata": {},
   "outputs": [
    {
     "output_type": "execute_result",
     "data": {
      "text/plain": [
       "['.git',\n",
       " '.gitignore',\n",
       " '.ipynb_checkpoints',\n",
       " '.vscode',\n",
       " 'a.txt',\n",
       " 'abc.txt',\n",
       " 'argv_test.py',\n",
       " 'b.txt',\n",
       " 'cap.py',\n",
       " 'ch02-bool.ipynb',\n",
       " 'ch02-dictionary.ipynb',\n",
       " 'ch02-exercise.ipynb',\n",
       " 'ch02-set.ipynb',\n",
       " 'ch02-variable.ipynb',\n",
       " 'ch03.ipynb',\n",
       " 'ch04.ipynb',\n",
       " 'ch05-1.ipynb',\n",
       " 'ch05.ipynb',\n",
       " 'ch05.py',\n",
       " 'ch0607.ipynb',\n",
       " 'ch08.ipynb',\n",
       " 'coffee.py',\n",
       " 'Complete-Python-3-Bootcamp-master',\n",
       " 'Complete-Python-3-Bootcamp-master.zip',\n",
       " 'dasafsad.txt',\n",
       " 'debug.log',\n",
       " 'dst.txt',\n",
       " 'foo.txt',\n",
       " 'game',\n",
       " 'gugu.py',\n",
       " 'hello.py',\n",
       " 'hello2.py',\n",
       " 'hello3.py',\n",
       " 'marks1.py',\n",
       " 'marks2.py',\n",
       " 'marks3.py',\n",
       " 'memo.py',\n",
       " 'memo.txt',\n",
       " 'mod1.py',\n",
       " 'modtest.py',\n",
       " 'multistring.py',\n",
       " 'myargv.py',\n",
       " 'myexample.py',\n",
       " 'myfile.txt',\n",
       " 'myfirstnotebook.ipynb',\n",
       " 'MyMainPackage',\n",
       " 'mymod',\n",
       " 'mymodule.py',\n",
       " 'myprogram.py',\n",
       " 'my_new_file.txt',\n",
       " 'Numbers.ipynb',\n",
       " 'one.py',\n",
       " 'practie.txt',\n",
       " 'readline_test.py',\n",
       " 'README.md',\n",
       " 'sec10.ipynb',\n",
       " 'sec11.ipynb',\n",
       " 'sec12.ipynb',\n",
       " 'sec13.ipynb',\n",
       " 'sec14.ipynb',\n",
       " 'sec3-1.ipynb',\n",
       " 'sec5-1.ipynb',\n",
       " 'sec5.ipynb',\n",
       " 'sec6.ipynb',\n",
       " 'sec7.ipynb',\n",
       " 'sec8.ipynb',\n",
       " 'simple.py',\n",
       " 'simple1.py',\n",
       " 'src.txt',\n",
       " 'sub_dir_search.py',\n",
       " 'sys1.py',\n",
       " 'tabto4.py',\n",
       " 'test',\n",
       " 'test.txt',\n",
       " 'testfile',\n",
       " 'test_cap.py',\n",
       " 'thread_test.py',\n",
       " 'two.py',\n",
       " 'vartest.py',\n",
       " 'writedata.py',\n",
       " '__pycache__',\n",
       " '새파일.txt',\n",
       " '새파일2.txt',\n",
       " '새파일3.txt']"
      ]
     },
     "metadata": {},
     "execution_count": 11
    }
   ],
   "source": [
    "os.listdir('c:')"
   ]
  },
  {
   "cell_type": "code",
   "execution_count": 12,
   "metadata": {},
   "outputs": [],
   "source": [
    "import shutil"
   ]
  },
  {
   "cell_type": "code",
   "execution_count": 14,
   "metadata": {},
   "outputs": [
    {
     "output_type": "error",
     "ename": "Error",
     "evalue": "Destination path 'c:\\doit\\practie.txt' already exists",
     "traceback": [
      "\u001b[1;31m---------------------------------------------------------------------------\u001b[0m",
      "\u001b[1;31mError\u001b[0m                                     Traceback (most recent call last)",
      "\u001b[1;32m<ipython-input-14-b679f2850204>\u001b[0m in \u001b[0;36m<module>\u001b[1;34m\u001b[0m\n\u001b[1;32m----> 1\u001b[1;33m \u001b[0mshutil\u001b[0m\u001b[1;33m.\u001b[0m\u001b[0mmove\u001b[0m\u001b[1;33m(\u001b[0m\u001b[1;34m'practie.txt'\u001b[0m\u001b[1;33m,\u001b[0m\u001b[1;34m'c:\\\\doit'\u001b[0m\u001b[1;33m)\u001b[0m\u001b[1;33m\u001b[0m\u001b[1;33m\u001b[0m\u001b[0m\n\u001b[0m",
      "\u001b[1;32m~\\anaconda3\\lib\\shutil.py\u001b[0m in \u001b[0;36mmove\u001b[1;34m(src, dst, copy_function)\u001b[0m\n\u001b[0;32m    784\u001b[0m         \u001b[0mreal_dst\u001b[0m \u001b[1;33m=\u001b[0m \u001b[0mos\u001b[0m\u001b[1;33m.\u001b[0m\u001b[0mpath\u001b[0m\u001b[1;33m.\u001b[0m\u001b[0mjoin\u001b[0m\u001b[1;33m(\u001b[0m\u001b[0mdst\u001b[0m\u001b[1;33m,\u001b[0m \u001b[0m_basename\u001b[0m\u001b[1;33m(\u001b[0m\u001b[0msrc\u001b[0m\u001b[1;33m)\u001b[0m\u001b[1;33m)\u001b[0m\u001b[1;33m\u001b[0m\u001b[1;33m\u001b[0m\u001b[0m\n\u001b[0;32m    785\u001b[0m         \u001b[1;32mif\u001b[0m \u001b[0mos\u001b[0m\u001b[1;33m.\u001b[0m\u001b[0mpath\u001b[0m\u001b[1;33m.\u001b[0m\u001b[0mexists\u001b[0m\u001b[1;33m(\u001b[0m\u001b[0mreal_dst\u001b[0m\u001b[1;33m)\u001b[0m\u001b[1;33m:\u001b[0m\u001b[1;33m\u001b[0m\u001b[1;33m\u001b[0m\u001b[0m\n\u001b[1;32m--> 786\u001b[1;33m             \u001b[1;32mraise\u001b[0m \u001b[0mError\u001b[0m\u001b[1;33m(\u001b[0m\u001b[1;34m\"Destination path '%s' already exists\"\u001b[0m \u001b[1;33m%\u001b[0m \u001b[0mreal_dst\u001b[0m\u001b[1;33m)\u001b[0m\u001b[1;33m\u001b[0m\u001b[1;33m\u001b[0m\u001b[0m\n\u001b[0m\u001b[0;32m    787\u001b[0m     \u001b[1;32mtry\u001b[0m\u001b[1;33m:\u001b[0m\u001b[1;33m\u001b[0m\u001b[1;33m\u001b[0m\u001b[0m\n\u001b[0;32m    788\u001b[0m         \u001b[0mos\u001b[0m\u001b[1;33m.\u001b[0m\u001b[0mrename\u001b[0m\u001b[1;33m(\u001b[0m\u001b[0msrc\u001b[0m\u001b[1;33m,\u001b[0m \u001b[0mreal_dst\u001b[0m\u001b[1;33m)\u001b[0m\u001b[1;33m\u001b[0m\u001b[1;33m\u001b[0m\u001b[0m\n",
      "\u001b[1;31mError\u001b[0m: Destination path 'c:\\doit\\practie.txt' already exists"
     ]
    }
   ],
   "source": [
    "shutil.move('practie.txt','c:\\\\doit')"
   ]
  },
  {
   "cell_type": "code",
   "execution_count": 15,
   "metadata": {},
   "outputs": [],
   "source": [
    "import send2trash"
   ]
  },
  {
   "cell_type": "code",
   "execution_count": 17,
   "metadata": {},
   "outputs": [
    {
     "output_type": "execute_result",
     "data": {
      "text/plain": [
       "['.git',\n",
       " '.gitignore',\n",
       " '.ipynb_checkpoints',\n",
       " '.vscode',\n",
       " 'a.txt',\n",
       " 'abc.txt',\n",
       " 'argv_test.py',\n",
       " 'b.txt',\n",
       " 'cap.py',\n",
       " 'ch02-bool.ipynb',\n",
       " 'ch02-dictionary.ipynb',\n",
       " 'ch02-exercise.ipynb',\n",
       " 'ch02-set.ipynb',\n",
       " 'ch02-variable.ipynb',\n",
       " 'ch03.ipynb',\n",
       " 'ch04.ipynb',\n",
       " 'ch05-1.ipynb',\n",
       " 'ch05.ipynb',\n",
       " 'ch05.py',\n",
       " 'ch0607.ipynb',\n",
       " 'ch08.ipynb',\n",
       " 'coffee.py',\n",
       " 'Complete-Python-3-Bootcamp-master',\n",
       " 'Complete-Python-3-Bootcamp-master.zip',\n",
       " 'dasafsad.txt',\n",
       " 'debug.log',\n",
       " 'dst.txt',\n",
       " 'foo.txt',\n",
       " 'game',\n",
       " 'gugu.py',\n",
       " 'hello.py',\n",
       " 'hello2.py',\n",
       " 'hello3.py',\n",
       " 'marks1.py',\n",
       " 'marks2.py',\n",
       " 'marks3.py',\n",
       " 'memo.py',\n",
       " 'memo.txt',\n",
       " 'mod1.py',\n",
       " 'modtest.py',\n",
       " 'multistring.py',\n",
       " 'myargv.py',\n",
       " 'myexample.py',\n",
       " 'myfile.txt',\n",
       " 'myfirstnotebook.ipynb',\n",
       " 'MyMainPackage',\n",
       " 'mymod',\n",
       " 'mymodule.py',\n",
       " 'myprogram.py',\n",
       " 'my_new_file.txt',\n",
       " 'Numbers.ipynb',\n",
       " 'one.py',\n",
       " 'practie.txt',\n",
       " 'readline_test.py',\n",
       " 'README.md',\n",
       " 'sec10.ipynb',\n",
       " 'sec11.ipynb',\n",
       " 'sec12.ipynb',\n",
       " 'sec13.ipynb',\n",
       " 'sec14.ipynb',\n",
       " 'sec3-1.ipynb',\n",
       " 'sec5-1.ipynb',\n",
       " 'sec5.ipynb',\n",
       " 'sec6.ipynb',\n",
       " 'sec7.ipynb',\n",
       " 'sec8.ipynb',\n",
       " 'simple.py',\n",
       " 'simple1.py',\n",
       " 'src.txt',\n",
       " 'sub_dir_search.py',\n",
       " 'sys1.py',\n",
       " 'tabto4.py',\n",
       " 'test',\n",
       " 'test.txt',\n",
       " 'testfile',\n",
       " 'test_cap.py',\n",
       " 'thread_test.py',\n",
       " 'two.py',\n",
       " 'vartest.py',\n",
       " 'writedata.py',\n",
       " '__pycache__',\n",
       " '새파일.txt',\n",
       " '새파일2.txt',\n",
       " '새파일3.txt']"
      ]
     },
     "metadata": {},
     "execution_count": 17
    }
   ],
   "source": [
    "os.listdir()"
   ]
  },
  {
   "cell_type": "code",
   "execution_count": 18,
   "metadata": {},
   "outputs": [
    {
     "output_type": "execute_result",
     "data": {
      "text/plain": [
       "'c:\\\\doit'"
      ]
     },
     "metadata": {},
     "execution_count": 18
    }
   ],
   "source": [
    "os.getcwd()"
   ]
  },
  {
   "cell_type": "code",
   "execution_count": 19,
   "metadata": {},
   "outputs": [
    {
     "output_type": "error",
     "ename": "SyntaxError",
     "evalue": "invalid syntax (<ipython-input-19-43c1f24a50b5>, line 1)",
     "traceback": [
      "\u001b[1;36m  File \u001b[1;32m\"<ipython-input-19-43c1f24a50b5>\"\u001b[1;36m, line \u001b[1;32m1\u001b[0m\n\u001b[1;33m    for folder,sub_folders,files in os.walka\u001b[0m\n\u001b[1;37m                                            ^\u001b[0m\n\u001b[1;31mSyntaxError\u001b[0m\u001b[1;31m:\u001b[0m invalid syntax\n"
     ]
    }
   ],
   "source": [
    " \n",
    "for folder,sub_folders,files in os.walka"
   ]
  },
  {
   "cell_type": "code",
   "execution_count": null,
   "metadata": {},
   "outputs": [],
   "source": []
  }
 ]
}