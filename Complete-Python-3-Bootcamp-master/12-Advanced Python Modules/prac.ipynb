{
 "metadata": {
  "language_info": {
   "codemirror_mode": {
    "name": "ipython",
    "version": 3
   },
   "file_extension": ".py",
   "mimetype": "text/x-python",
   "name": "python",
   "nbconvert_exporter": "python",
   "pygments_lexer": "ipython3",
   "version": "3.8.3-final"
  },
  "orig_nbformat": 2,
  "kernelspec": {
   "name": "Python 3.8.3 64-bit ('base': conda)",
   "display_name": "Python 3.8.3 64-bit ('base': conda)",
   "metadata": {
    "interpreter": {
     "hash": "97b329c2fb1e883d000f5a734d37e8c4bd350154ae5a738b8fcfe027b2f6eeab"
    }
   }
  }
 },
 "nbformat": 4,
 "nbformat_minor": 2,
 "cells": [
  {
   "cell_type": "code",
   "execution_count": 4,
   "metadata": {},
   "outputs": [
    {
     "output_type": "execute_result",
     "data": {
      "text/plain": [
       "'c:\\\\doit\\\\Complete-Python-3-Bootcamp-master\\\\12-Advanced Python Modules'"
      ]
     },
     "metadata": {},
     "execution_count": 4
    }
   ],
   "source": [
    "pwd"
   ]
  },
  {
   "cell_type": "code",
   "execution_count": 5,
   "metadata": {},
   "outputs": [],
   "source": [
    "f = open('practice.txt','w+')\n",
    "f.write('This is a test string')\n",
    "f.close()"
   ]
  },
  {
   "cell_type": "code",
   "execution_count": 6,
   "metadata": {},
   "outputs": [],
   "source": [
    "import os"
   ]
  },
  {
   "cell_type": "code",
   "execution_count": 7,
   "metadata": {},
   "outputs": [
    {
     "output_type": "execute_result",
     "data": {
      "text/plain": [
       "'c:\\\\doit\\\\Complete-Python-3-Bootcamp-master\\\\12-Advanced Python Modules'"
      ]
     },
     "metadata": {},
     "execution_count": 7
    }
   ],
   "source": [
    "os.getcwd()"
   ]
  },
  {
   "cell_type": "code",
   "execution_count": 8,
   "metadata": {},
   "outputs": [
    {
     "output_type": "execute_result",
     "data": {
      "text/plain": [
       "['.ipynb_checkpoints',\n",
       " '00-Collections-Module.ipynb',\n",
       " '01-Opening-and-Reading-Files-Folders.ipynb',\n",
       " '02-Datetime-Module.ipynb',\n",
       " '03-Math-and-Random-Module.ipynb',\n",
       " '04-Python Debugger (pdb).ipynb',\n",
       " '05-Overview-of-Regular-Expressions.ipynb',\n",
       " '06-Timing your code - timeit.ipynb',\n",
       " '07-Unzipping-and-Zipping-Files.ipynb',\n",
       " '08-Advanced-Python-Module-Exercise',\n",
       " 'Example_Top_Level',\n",
       " 'prac.ipynb',\n",
       " 'practice.txt']"
      ]
     },
     "metadata": {},
     "execution_count": 8
    }
   ],
   "source": [
    "os.listdir()"
   ]
  },
  {
   "cell_type": "code",
   "execution_count": 9,
   "metadata": {},
   "outputs": [
    {
     "output_type": "execute_result",
     "data": {
      "text/plain": [
       "['.git',\n",
       " '.gitignore',\n",
       " '.ipynb_checkpoints',\n",
       " '.vscode',\n",
       " 'a.txt',\n",
       " 'abc.txt',\n",
       " 'argv_test.py',\n",
       " 'b.txt',\n",
       " 'cap.py',\n",
       " 'ch02-bool.ipynb',\n",
       " 'ch02-dictionary.ipynb',\n",
       " 'ch02-exercise.ipynb',\n",
       " 'ch02-set.ipynb',\n",
       " 'ch02-variable.ipynb',\n",
       " 'ch03.ipynb',\n",
       " 'ch04.ipynb',\n",
       " 'ch05-1.ipynb',\n",
       " 'ch05.ipynb',\n",
       " 'ch05.py',\n",
       " 'ch0607.ipynb',\n",
       " 'ch08.ipynb',\n",
       " 'coffee.py',\n",
       " 'Complete-Python-3-Bootcamp-master',\n",
       " 'Complete-Python-3-Bootcamp-master.zip',\n",
       " 'dasafsad.txt',\n",
       " 'debug.log',\n",
       " 'dst.txt',\n",
       " 'foo.txt',\n",
       " 'game',\n",
       " 'gugu.py',\n",
       " 'hello.py',\n",
       " 'hello2.py',\n",
       " 'hello3.py',\n",
       " 'marks1.py',\n",
       " 'marks2.py',\n",
       " 'marks3.py',\n",
       " 'memo.py',\n",
       " 'memo.txt',\n",
       " 'mod1.py',\n",
       " 'modtest.py',\n",
       " 'multistring.py',\n",
       " 'myargv.py',\n",
       " 'myexample.py',\n",
       " 'myfile.txt',\n",
       " 'myfirstnotebook.ipynb',\n",
       " 'MyMainPackage',\n",
       " 'mymod',\n",
       " 'mymodule.py',\n",
       " 'myprogram.py',\n",
       " 'my_new_file.txt',\n",
       " 'Numbers.ipynb',\n",
       " 'one.py',\n",
       " 'practie.txt',\n",
       " 'readline_test.py',\n",
       " 'README.md',\n",
       " 'sec10.ipynb',\n",
       " 'sec11.ipynb',\n",
       " 'sec12.ipynb',\n",
       " 'sec13.ipynb',\n",
       " 'sec14.ipynb',\n",
       " 'sec3-1.ipynb',\n",
       " 'sec5-1.ipynb',\n",
       " 'sec5.ipynb',\n",
       " 'sec6.ipynb',\n",
       " 'sec7.ipynb',\n",
       " 'sec8.ipynb',\n",
       " 'simple.py',\n",
       " 'simple1.py',\n",
       " 'src.txt',\n",
       " 'sub_dir_search.py',\n",
       " 'sys1.py',\n",
       " 'tabto4.py',\n",
       " 'test',\n",
       " 'test.txt',\n",
       " 'testfile',\n",
       " 'test_cap.py',\n",
       " 'thread_test.py',\n",
       " 'two.py',\n",
       " 'vartest.py',\n",
       " 'writedata.py',\n",
       " '__pycache__',\n",
       " '새파일.txt',\n",
       " '새파일2.txt',\n",
       " '새파일3.txt']"
      ]
     },
     "metadata": {},
     "execution_count": 9
    }
   ],
   "source": [
    "os.listdir('c:\\\\doit')"
   ]
  },
  {
   "cell_type": "code",
   "execution_count": 10,
   "metadata": {},
   "outputs": [],
   "source": [
    "import shutil"
   ]
  },
  {
   "cell_type": "code",
   "execution_count": 14,
   "metadata": {},
   "outputs": [
    {
     "output_type": "execute_result",
     "data": {
      "text/plain": [
       "'c:\\\\doit\\\\Complete-Python-3-Bootcamp-master\\\\12-Advanced Python Modules\\\\practice.txt'"
      ]
     },
     "metadata": {},
     "execution_count": 14
    }
   ],
   "source": [
    "shutil.move('c:\\\\doit\\\\practice.txt',os.getcwd())"
   ]
  },
  {
   "cell_type": "code",
   "execution_count": 12,
   "metadata": {},
   "outputs": [
    {
     "output_type": "execute_result",
     "data": {
      "text/plain": [
       "['.git',\n",
       " '.gitignore',\n",
       " '.ipynb_checkpoints',\n",
       " '.vscode',\n",
       " 'a.txt',\n",
       " 'abc.txt',\n",
       " 'argv_test.py',\n",
       " 'b.txt',\n",
       " 'cap.py',\n",
       " 'ch02-bool.ipynb',\n",
       " 'ch02-dictionary.ipynb',\n",
       " 'ch02-exercise.ipynb',\n",
       " 'ch02-set.ipynb',\n",
       " 'ch02-variable.ipynb',\n",
       " 'ch03.ipynb',\n",
       " 'ch04.ipynb',\n",
       " 'ch05-1.ipynb',\n",
       " 'ch05.ipynb',\n",
       " 'ch05.py',\n",
       " 'ch0607.ipynb',\n",
       " 'ch08.ipynb',\n",
       " 'coffee.py',\n",
       " 'Complete-Python-3-Bootcamp-master',\n",
       " 'Complete-Python-3-Bootcamp-master.zip',\n",
       " 'dasafsad.txt',\n",
       " 'debug.log',\n",
       " 'dst.txt',\n",
       " 'foo.txt',\n",
       " 'game',\n",
       " 'gugu.py',\n",
       " 'hello.py',\n",
       " 'hello2.py',\n",
       " 'hello3.py',\n",
       " 'marks1.py',\n",
       " 'marks2.py',\n",
       " 'marks3.py',\n",
       " 'memo.py',\n",
       " 'memo.txt',\n",
       " 'mod1.py',\n",
       " 'modtest.py',\n",
       " 'multistring.py',\n",
       " 'myargv.py',\n",
       " 'myexample.py',\n",
       " 'myfile.txt',\n",
       " 'myfirstnotebook.ipynb',\n",
       " 'MyMainPackage',\n",
       " 'mymod',\n",
       " 'mymodule.py',\n",
       " 'myprogram.py',\n",
       " 'my_new_file.txt',\n",
       " 'Numbers.ipynb',\n",
       " 'one.py',\n",
       " 'practice.txt',\n",
       " 'practie.txt',\n",
       " 'readline_test.py',\n",
       " 'README.md',\n",
       " 'sec10.ipynb',\n",
       " 'sec11.ipynb',\n",
       " 'sec12.ipynb',\n",
       " 'sec13.ipynb',\n",
       " 'sec14.ipynb',\n",
       " 'sec3-1.ipynb',\n",
       " 'sec5-1.ipynb',\n",
       " 'sec5.ipynb',\n",
       " 'sec6.ipynb',\n",
       " 'sec7.ipynb',\n",
       " 'sec8.ipynb',\n",
       " 'simple.py',\n",
       " 'simple1.py',\n",
       " 'src.txt',\n",
       " 'sub_dir_search.py',\n",
       " 'sys1.py',\n",
       " 'tabto4.py',\n",
       " 'test',\n",
       " 'test.txt',\n",
       " 'testfile',\n",
       " 'test_cap.py',\n",
       " 'thread_test.py',\n",
       " 'two.py',\n",
       " 'vartest.py',\n",
       " 'writedata.py',\n",
       " '__pycache__',\n",
       " '새파일.txt',\n",
       " '새파일2.txt',\n",
       " '새파일3.txt']"
      ]
     },
     "metadata": {},
     "execution_count": 12
    }
   ],
   "source": [
    "os.listdir('c:\\\\doit')"
   ]
  },
  {
   "cell_type": "code",
   "execution_count": 1,
   "metadata": {},
   "outputs": [],
   "source": [
    "import send2trash"
   ]
  },
  {
   "cell_type": "code",
   "execution_count": 15,
   "metadata": {},
   "outputs": [
    {
     "output_type": "execute_result",
     "data": {
      "text/plain": [
       "['.ipynb_checkpoints',\n",
       " '00-Collections-Module.ipynb',\n",
       " '01-Opening-and-Reading-Files-Folders.ipynb',\n",
       " '02-Datetime-Module.ipynb',\n",
       " '03-Math-and-Random-Module.ipynb',\n",
       " '04-Python Debugger (pdb).ipynb',\n",
       " '05-Overview-of-Regular-Expressions.ipynb',\n",
       " '06-Timing your code - timeit.ipynb',\n",
       " '07-Unzipping-and-Zipping-Files.ipynb',\n",
       " '08-Advanced-Python-Module-Exercise',\n",
       " 'Example_Top_Level',\n",
       " 'prac.ipynb',\n",
       " 'practice.txt']"
      ]
     },
     "metadata": {},
     "execution_count": 15
    }
   ],
   "source": [
    "os.listdir()"
   ]
  },
  {
   "cell_type": "code",
   "execution_count": 16,
   "metadata": {},
   "outputs": [],
   "source": [
    "send2trash.send2trash('practice.txt')"
   ]
  },
  {
   "cell_type": "code",
   "execution_count": 17,
   "metadata": {},
   "outputs": [
    {
     "output_type": "execute_result",
     "data": {
      "text/plain": [
       "['.ipynb_checkpoints',\n",
       " '00-Collections-Module.ipynb',\n",
       " '01-Opening-and-Reading-Files-Folders.ipynb',\n",
       " '02-Datetime-Module.ipynb',\n",
       " '03-Math-and-Random-Module.ipynb',\n",
       " '04-Python Debugger (pdb).ipynb',\n",
       " '05-Overview-of-Regular-Expressions.ipynb',\n",
       " '06-Timing your code - timeit.ipynb',\n",
       " '07-Unzipping-and-Zipping-Files.ipynb',\n",
       " '08-Advanced-Python-Module-Exercise',\n",
       " 'Example_Top_Level',\n",
       " 'prac.ipynb']"
      ]
     },
     "metadata": {},
     "execution_count": 17
    }
   ],
   "source": [
    "os.listdir()"
   ]
  },
  {
   "cell_type": "code",
   "execution_count": 18,
   "metadata": {},
   "outputs": [
    {
     "output_type": "execute_result",
     "data": {
      "text/plain": [
       "'c:\\\\doit\\\\Complete-Python-3-Bootcamp-master\\\\12-Advanced Python Modules'"
      ]
     },
     "metadata": {},
     "execution_count": 18
    }
   ],
   "source": [
    "os.getcwd()"
   ]
  },
  {
   "cell_type": "code",
   "execution_count": 19,
   "metadata": {},
   "outputs": [],
   "source": [
    "file_path = 'c:\\\\doit\\\\Complete-Python-3-Bootcamp-master\\\\12-Advanced Python Modules\\\\Example_Top_Level'"
   ]
  },
  {
   "cell_type": "code",
   "execution_count": 20,
   "metadata": {},
   "outputs": [
    {
     "output_type": "stream",
     "name": "stdout",
     "text": [
      "Currently looking at c:\\doit\\Complete-Python-3-Bootcamp-master\\12-Advanced Python Modules\\Example_Top_Level\n\n\nThe subfolders are: \nSubfolder: Mid-Example-One\n\n\nthe files are: \n\t File: Mid-Example.txt\n\n\nCurrently looking at c:\\doit\\Complete-Python-3-Bootcamp-master\\12-Advanced Python Modules\\Example_Top_Level\\Mid-Example-One\n\n\nThe subfolders are: \nSubfolder: Bottom-Level-One\nSubfolder: Bottom-Level-Two\n\n\nthe files are: \n\t File: Mid-Level-Doc.txt\n\n\nCurrently looking at c:\\doit\\Complete-Python-3-Bootcamp-master\\12-Advanced Python Modules\\Example_Top_Level\\Mid-Example-One\\Bottom-Level-One\n\n\nThe subfolders are: \n\n\nthe files are: \n\t File: One_Text.txt\n\n\nCurrently looking at c:\\doit\\Complete-Python-3-Bootcamp-master\\12-Advanced Python Modules\\Example_Top_Level\\Mid-Example-One\\Bottom-Level-Two\n\n\nThe subfolders are: \n\n\nthe files are: \n\t File: Bottom-Text-Two.txt\n\n\n"
     ]
    }
   ],
   "source": [
    "for folder, sub_folders, files in os.walk(file_path):\n",
    "\n",
    "    print(f\"Currently looking at {folder}\")\n",
    "    print('\\n')\n",
    "    print('The subfolders are: ')\n",
    "    for sub_fold in sub_folders:\n",
    "        print(f\"Subfolder: {sub_fold}\")\n",
    "\n",
    "    print('\\n')\n",
    "    print(\"the files are: \")\n",
    "    for f in files:\n",
    "        print(f\"\\t File: {f}\")\n",
    "    print('\\n')\n"
   ]
  },
  {
   "cell_type": "code",
   "execution_count": null,
   "metadata": {},
   "outputs": [],
   "source": []
  }
 ]
}