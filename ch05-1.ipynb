{
 "metadata": {
  "language_info": {
   "codemirror_mode": {
    "name": "ipython",
    "version": 3
   },
   "file_extension": ".py",
   "mimetype": "text/x-python",
   "name": "python",
   "nbconvert_exporter": "python",
   "pygments_lexer": "ipython3",
   "version": "3.8.5-final"
  },
  "orig_nbformat": 2,
  "kernelspec": {
   "name": "python_defaultSpec_1597661239873",
   "display_name": "Python 3.8.5 32-bit"
  }
 },
 "nbformat": 4,
 "nbformat_minor": 2,
 "cells": [
  {
   "cell_type": "code",
   "execution_count": 7,
   "metadata": {},
   "outputs": [],
   "source": [
    "import pickle\n",
    "f=open(\"test.txt\", 'wb')\n",
    "data = {1: 'python', 2: 'you need2'}\n",
    "pickle.dump(data, f)\n",
    "f.close()"
   ]
  },
  {
   "cell_type": "code",
   "execution_count": 8,
   "metadata": {
    "tags": []
   },
   "outputs": [
    {
     "output_type": "stream",
     "name": "stdout",
     "text": "{1: 'python', 2: 'you need2'}\n"
    }
   ],
   "source": [
    "import pickle\n",
    "f = open(\"test.txt\", 'rb')\n",
    "data = pickle.load(f)\n",
    "print(data)"
   ]
  },
  {
   "cell_type": "code",
   "execution_count": 9,
   "metadata": {},
   "outputs": [
    {
     "output_type": "execute_result",
     "data": {
      "text/plain": "environ{'ALLUSERSPROFILE': 'C:\\\\ProgramData',\n        'AMD_ENTRYPOINT': 'vs/workbench/services/extensions/node/extensionHostProcess',\n        'APPDATA': 'C:\\\\Users\\\\ohhyeun\\\\AppData\\\\Roaming',\n        'APPLICATION_INSIGHTS_NO_DIAGNOSTIC_CHANNEL': 'true',\n        'ASL.LOG': 'Destination=file',\n        'COMMONPROGRAMFILES': 'C:\\\\Program Files (x86)\\\\Common Files',\n        'COMMONPROGRAMFILES(X86)': 'C:\\\\Program Files (x86)\\\\Common Files',\n        'COMMONPROGRAMW6432': 'C:\\\\Program Files\\\\Common Files',\n        'COMPUTERNAME': 'LAPTOP-FS3LB1QN',\n        'COMSPEC': 'C:\\\\WINDOWS\\\\system32\\\\cmd.exe',\n        'DRIVERDATA': 'C:\\\\Windows\\\\System32\\\\Drivers\\\\DriverData',\n        'ELECTRON_CRASHPAD_PIPE_NAME': '\\\\\\\\.\\\\pipe\\\\crashpad_15284_UICQTDIRNQUYDUQZ',\n        'ELECTRON_RUN_AS_NODE': '1',\n        'FPS_BROWSER_APP_PROFILE_STRING': 'Internet Explorer',\n        'FPS_BROWSER_USER_PROFILE_STRING': 'Default',\n        'HOMEDRIVE': 'C:',\n        'HOMEPATH': '\\\\Users\\\\ohhyeun',\n        'HTTPPORT': '8080',\n        'JAVA_HOME': 'C:\\\\Program Files\\\\Java\\\\jdk1.8.0_191',\n        'LOCALAPPDATA': 'C:\\\\Users\\\\ohhyeun\\\\AppData\\\\Local',\n        'LOGONSERVER': '\\\\\\\\LAPTOP-FS3LB1QN',\n        'NUMBER_OF_PROCESSORS': '4',\n        'ONEDRIVE': 'C:\\\\Users\\\\ohhyeun\\\\OneDrive',\n        'ONEDRIVECONSUMER': 'C:\\\\Users\\\\ohhyeun\\\\OneDrive',\n        'ORIGINAL_XDG_CURRENT_DESKTOP': 'undefined',\n        'OS': 'Windows_NT',\n        'PATH': 'C:\\\\Program Files (x86)\\\\Python38-32\\\\Scripts\\\\;C:\\\\Program Files (x86)\\\\Python38-32\\\\;C:\\\\oraclexe\\\\app\\\\oracle\\\\product\\\\11.2.0\\\\server\\\\bin;C:\\\\Program Files (x86)\\\\Common Files\\\\Oracle\\\\Java\\\\javapath;C:\\\\Program Files (x86)\\\\Intel\\\\Intel(R) Management Engine Components\\\\iCLS\\\\;C:\\\\Program Files\\\\Intel\\\\Intel(R) Management Engine Components\\\\iCLS\\\\;C:\\\\WINDOWS\\\\system32;C:\\\\WINDOWS;C:\\\\WINDOWS\\\\System32\\\\Wbem;C:\\\\WINDOWS\\\\System32\\\\WindowsPowerShell\\\\v1.0\\\\;C:\\\\WINDOWS\\\\System32\\\\OpenSSH\\\\;C:\\\\Program Files\\\\Intel\\\\WiFi\\\\bin\\\\;C:\\\\Program Files\\\\Common Files\\\\Intel\\\\WirelessCommon\\\\;C:\\\\Program Files (x86)\\\\Intel\\\\Intel(R) Management Engine Components\\\\DAL;C:\\\\Program Files\\\\Intel\\\\Intel(R) Management Engine Components\\\\DAL;C:\\\\Program Files (x86)\\\\Intel\\\\Intel(R) Management Engine Components\\\\IPT;C:\\\\Program Files\\\\Intel\\\\Intel(R) Management Engine Components\\\\IPT;C:\\\\Program Files\\\\Git\\\\cmd;C:\\\\src\\\\flutter\\\\bin;C:\\\\Users\\\\ohhyeun\\\\AppData\\\\Local\\\\Microsoft\\\\WindowsApps;C:\\\\Program Files\\\\Bandizip\\\\;C:\\\\Users\\\\ohhyeun\\\\AppData\\\\Local\\\\GitHubDesktop\\\\bin;C:\\\\Users\\\\ohhyeun\\\\AppData\\\\Local\\\\Microsoft\\\\WindowsApps;;C:\\\\Users\\\\ohhyeun\\\\AppData\\\\Local\\\\Programs\\\\Microsoft VS Code\\\\bin',\n        'PATHEXT': '.COM;.EXE;.BAT;.CMD;.VBS;.VBE;.JS;.JSE;.WSF;.WSH;.MSC;.PY;.PYW',\n        'PIPE_LOGGING': 'true',\n        'PROCESSOR_ARCHITECTURE': 'x86',\n        'PROCESSOR_ARCHITEW6432': 'AMD64',\n        'PROCESSOR_IDENTIFIER': 'Intel64 Family 6 Model 142 Stepping 10, GenuineIntel',\n        'PROCESSOR_LEVEL': '6',\n        'PROCESSOR_REVISION': '8e0a',\n        'PROGRAMDATA': 'C:\\\\ProgramData',\n        'PROGRAMFILES': 'C:\\\\Program Files (x86)',\n        'PROGRAMFILES(X86)': 'C:\\\\Program Files (x86)',\n        'PROGRAMW6432': 'C:\\\\Program Files',\n        'PSMODULEPATH': 'C:\\\\Program Files\\\\WindowsPowerShell\\\\Modules;C:\\\\WINDOWS\\\\system32\\\\WindowsPowerShell\\\\v1.0\\\\Modules',\n        'PUBLIC': 'C:\\\\Users\\\\Public',\n        'PYTHONIOENCODING': 'utf-8',\n        'PYTHONPATH': 'c:\\\\Users\\\\ohhyeun\\\\.vscode\\\\extensions\\\\ms-python.python-2020.8.101144\\\\pythonFiles;c:\\\\Users\\\\ohhyeun\\\\.vscode\\\\extensions\\\\ms-python.python-2020.8.101144\\\\pythonFiles\\\\lib\\\\python',\n        'PYTHONUNBUFFERED': '1',\n        'PYTHONWARNINGS': 'ignore',\n        'SESSIONNAME': 'Console',\n        'SYSTEMDRIVE': 'C:',\n        'SYSTEMROOT': 'C:\\\\WINDOWS',\n        'TEMP': 'C:\\\\Users\\\\ohhyeun\\\\AppData\\\\Local\\\\Temp',\n        'TMP': 'C:\\\\Users\\\\ohhyeun\\\\AppData\\\\Local\\\\Temp',\n        'USERDOMAIN': 'LAPTOP-FS3LB1QN',\n        'USERDOMAIN_ROAMINGPROFILE': 'LAPTOP-FS3LB1QN',\n        'USERNAME': 'ohhyeun',\n        'USERPROFILE': 'C:\\\\Users\\\\ohhyeun',\n        'VERBOSE_LOGGING': 'true',\n        'VSCODE_CWD': 'C:\\\\Users\\\\ohhyeun\\\\AppData\\\\Local\\\\Programs\\\\Microsoft VS Code',\n        'VSCODE_HANDLES_UNCAUGHT_ERRORS': 'true',\n        'VSCODE_IPC_HOOK': '\\\\\\\\.\\\\pipe\\\\0e4dab7b8d2ce2b475dc74d2c81ff3fb-1.48.0-main-sock',\n        'VSCODE_IPC_HOOK_EXTHOST': '\\\\\\\\.\\\\pipe\\\\vscode-ipc-1c472f8c-5aed-451d-94dd-cea4bade0cbe-sock',\n        'VSCODE_LOGS': 'C:\\\\Users\\\\ohhyeun\\\\AppData\\\\Roaming\\\\Code\\\\logs\\\\20200817T190553',\n        'VSCODE_LOG_STACK': 'false',\n        'VSCODE_NLS_CONFIG': '{\"locale\":\"ko\",\"availableLanguages\":{},\"_languagePackSupport\":true}',\n        'VSCODE_NODE_CACHED_DATA_DIR': 'C:\\\\Users\\\\ohhyeun\\\\AppData\\\\Roaming\\\\Code\\\\CachedData\\\\db40434f562994116e5b21c24015a2e40b2504e6',\n        'VSCODE_PID': '15284',\n        'WINDIR': 'C:\\\\WINDOWS',\n        'JPY_INTERRUPT_EVENT': '692',\n        'IPY_INTERRUPT_EVENT': '692',\n        'JPY_PARENT_PID': '688',\n        'TERM': 'xterm-color',\n        'CLICOLOR': '1',\n        'PAGER': 'cat',\n        'GIT_PAGER': 'cat',\n        'MPLBACKEND': 'module://ipykernel.pylab.backend_inline'}"
     },
     "metadata": {},
     "execution_count": 9
    }
   ],
   "source": [
    "import os\n",
    "os.environ"
   ]
  },
  {
   "cell_type": "code",
   "execution_count": 10,
   "metadata": {},
   "outputs": [
    {
     "output_type": "execute_result",
     "data": {
      "text/plain": "'C:\\\\Program Files (x86)\\\\Python38-32\\\\Scripts\\\\;C:\\\\Program Files (x86)\\\\Python38-32\\\\;C:\\\\oraclexe\\\\app\\\\oracle\\\\product\\\\11.2.0\\\\server\\\\bin;C:\\\\Program Files (x86)\\\\Common Files\\\\Oracle\\\\Java\\\\javapath;C:\\\\Program Files (x86)\\\\Intel\\\\Intel(R) Management Engine Components\\\\iCLS\\\\;C:\\\\Program Files\\\\Intel\\\\Intel(R) Management Engine Components\\\\iCLS\\\\;C:\\\\WINDOWS\\\\system32;C:\\\\WINDOWS;C:\\\\WINDOWS\\\\System32\\\\Wbem;C:\\\\WINDOWS\\\\System32\\\\WindowsPowerShell\\\\v1.0\\\\;C:\\\\WINDOWS\\\\System32\\\\OpenSSH\\\\;C:\\\\Program Files\\\\Intel\\\\WiFi\\\\bin\\\\;C:\\\\Program Files\\\\Common Files\\\\Intel\\\\WirelessCommon\\\\;C:\\\\Program Files (x86)\\\\Intel\\\\Intel(R) Management Engine Components\\\\DAL;C:\\\\Program Files\\\\Intel\\\\Intel(R) Management Engine Components\\\\DAL;C:\\\\Program Files (x86)\\\\Intel\\\\Intel(R) Management Engine Components\\\\IPT;C:\\\\Program Files\\\\Intel\\\\Intel(R) Management Engine Components\\\\IPT;C:\\\\Program Files\\\\Git\\\\cmd;C:\\\\src\\\\flutter\\\\bin;C:\\\\Users\\\\ohhyeun\\\\AppData\\\\Local\\\\Microsoft\\\\WindowsApps;C:\\\\Program Files\\\\Bandizip\\\\;C:\\\\Users\\\\ohhyeun\\\\AppData\\\\Local\\\\GitHubDesktop\\\\bin;C:\\\\Users\\\\ohhyeun\\\\AppData\\\\Local\\\\Microsoft\\\\WindowsApps;;C:\\\\Users\\\\ohhyeun\\\\AppData\\\\Local\\\\Programs\\\\Microsoft VS Code\\\\bin'"
     },
     "metadata": {},
     "execution_count": 10
    }
   ],
   "source": [
    "os.environ['PATH']"
   ]
  },
  {
   "cell_type": "code",
   "execution_count": 13,
   "metadata": {},
   "outputs": [],
   "source": [
    "os.chdir(\"C:\\doit\")"
   ]
  },
  {
   "cell_type": "code",
   "execution_count": 14,
   "metadata": {},
   "outputs": [
    {
     "output_type": "execute_result",
     "data": {
      "text/plain": "'C:\\\\doit'"
     },
     "metadata": {},
     "execution_count": 14
    }
   ],
   "source": [
    "os.getcwd()"
   ]
  },
  {
   "cell_type": "code",
   "execution_count": 16,
   "metadata": {},
   "outputs": [
    {
     "output_type": "execute_result",
     "data": {
      "text/plain": "0"
     },
     "metadata": {},
     "execution_count": 16
    }
   ],
   "source": [
    "os.system(\"dir\")"
   ]
  },
  {
   "cell_type": "code",
   "execution_count": 17,
   "metadata": {},
   "outputs": [
    {
     "output_type": "execute_result",
     "data": {
      "text/plain": "['c:/doit\\\\marks1.py', 'c:/doit\\\\marks2.py', 'c:/doit\\\\marks3.py']"
     },
     "metadata": {},
     "execution_count": 17
    }
   ],
   "source": [
    "import glob\n",
    "glob.glob(\"c:/doit/mark*\")"
   ]
  },
  {
   "cell_type": "code",
   "execution_count": 18,
   "metadata": {},
   "outputs": [
    {
     "output_type": "execute_result",
     "data": {
      "text/plain": "(5, 'C:\\\\Users\\\\ohhyeun\\\\AppData\\\\Local\\\\Temp\\\\tmpalj2tvyc')"
     },
     "metadata": {},
     "execution_count": 18
    }
   ],
   "source": [
    "import tempfile\n",
    "filename = tempfile.mkstemp()\n",
    "filename"
   ]
  },
  {
   "cell_type": "code",
   "execution_count": 19,
   "metadata": {},
   "outputs": [],
   "source": [
    "import tempfile\n",
    "f=tempfile.TemporaryFile()\n",
    "f.close()"
   ]
  },
  {
   "cell_type": "code",
   "execution_count": 20,
   "metadata": {},
   "outputs": [
    {
     "output_type": "execute_result",
     "data": {
      "text/plain": "1597663879.778787"
     },
     "metadata": {},
     "execution_count": 20
    }
   ],
   "source": [
    "import time\n",
    "time.time()"
   ]
  },
  {
   "cell_type": "code",
   "execution_count": 21,
   "metadata": {},
   "outputs": [
    {
     "output_type": "execute_result",
     "data": {
      "text/plain": "time.struct_time(tm_year=2020, tm_mon=8, tm_mday=17, tm_hour=20, tm_min=31, tm_sec=39, tm_wday=0, tm_yday=230, tm_isdst=0)"
     },
     "metadata": {},
     "execution_count": 21
    }
   ],
   "source": [
    "time.localtime(time.time())"
   ]
  },
  {
   "cell_type": "code",
   "execution_count": 22,
   "metadata": {},
   "outputs": [
    {
     "output_type": "execute_result",
     "data": {
      "text/plain": "'Mon Aug 17 20:32:03 2020'"
     },
     "metadata": {},
     "execution_count": 22
    }
   ],
   "source": [
    "time.asctime(time.localtime(time.time()))"
   ]
  },
  {
   "cell_type": "code",
   "execution_count": 23,
   "metadata": {},
   "outputs": [
    {
     "output_type": "execute_result",
     "data": {
      "text/plain": "'Mon Aug 17 20:32:12 2020'"
     },
     "metadata": {},
     "execution_count": 23
    }
   ],
   "source": [
    "time.ctime()"
   ]
  },
  {
   "cell_type": "code",
   "execution_count": 24,
   "metadata": {},
   "outputs": [
    {
     "output_type": "execute_result",
     "data": {
      "text/plain": "'08/17/20'"
     },
     "metadata": {},
     "execution_count": 24
    }
   ],
   "source": [
    "time.strftime('%x', time.localtime(time.time()))"
   ]
  },
  {
   "cell_type": "code",
   "execution_count": 25,
   "metadata": {},
   "outputs": [
    {
     "output_type": "execute_result",
     "data": {
      "text/plain": "'Mon Aug 17 20:33:21 2020'"
     },
     "metadata": {},
     "execution_count": 25
    }
   ],
   "source": [
    "time.strftime('%c', time.localtime(time.time()))"
   ]
  },
  {
   "cell_type": "code",
   "execution_count": 26,
   "metadata": {
    "tags": []
   },
   "outputs": [
    {
     "output_type": "stream",
     "name": "stdout",
     "text": "0\n1\n2\n3\n4\n5\n6\n7\n8\n9\n"
    }
   ],
   "source": [
    "#sleep.py\n",
    "import time\n",
    "for i in range(10):\n",
    "    print(i)\n",
    "    time.sleep(1)"
   ]
  },
  {
   "cell_type": "code",
   "execution_count": 28,
   "metadata": {
    "tags": []
   },
   "outputs": [
    {
     "output_type": "stream",
     "name": "stdout",
     "text": "2015\n\n      January                   February                   March\nMo Tu We Th Fr Sa Su      Mo Tu We Th Fr Sa Su      Mo Tu We Th Fr Sa Su\n          1  2  3  4                         1                         1\n 5  6  7  8  9 10 11       2  3  4  5  6  7  8       2  3  4  5  6  7  8\n12 13 14 15 16 17 18       9 10 11 12 13 14 15       9 10 11 12 13 14 15\n19 20 21 22 23 24 25      16 17 18 19 20 21 22      16 17 18 19 20 21 22\n26 27 28 29 30 31         23 24 25 26 27 28         23 24 25 26 27 28 29\n                                                    30 31\n\n       April                      May                       June\nMo Tu We Th Fr Sa Su      Mo Tu We Th Fr Sa Su      Mo Tu We Th Fr Sa Su\n       1  2  3  4  5                   1  2  3       1  2  3  4  5  6  7\n 6  7  8  9 10 11 12       4  5  6  7  8  9 10       8  9 10 11 12 13 14\n13 14 15 16 17 18 19      11 12 13 14 15 16 17      15 16 17 18 19 20 21\n20 21 22 23 24 25 26      18 19 20 21 22 23 24      22 23 24 25 26 27 28\n27 28 29 30               25 26 27 28 29 30 31      29 30\n\n        July                     August                  September\nMo Tu We Th Fr Sa Su      Mo Tu We Th Fr Sa Su      Mo Tu We Th Fr Sa Su\n       1  2  3  4  5                      1  2          1  2  3  4  5  6\n 6  7  8  9 10 11 12       3  4  5  6  7  8  9       7  8  9 10 11 12 13\n13 14 15 16 17 18 19      10 11 12 13 14 15 16      14 15 16 17 18 19 20\n20 21 22 23 24 25 26      17 18 19 20 21 22 23      21 22 23 24 25 26 27\n27 28 29 30 31            24 25 26 27 28 29 30      28 29 30\n                          31\n\n      October                   November                  December\nMo Tu We Th Fr Sa Su      Mo Tu We Th Fr Sa Su      Mo Tu We Th Fr Sa Su\n          1  2  3  4                         1          1  2  3  4  5  6\n 5  6  7  8  9 10 11       2  3  4  5  6  7  8       7  8  9 10 11 12 13\n12 13 14 15 16 17 18       9 10 11 12 13 14 15      14 15 16 17 18 19 20\n19 20 21 22 23 24 25      16 17 18 19 20 21 22      21 22 23 24 25 26 27\n26 27 28 29 30 31         23 24 25 26 27 28 29      28 29 30 31\n                          30\nNone\n"
    }
   ],
   "source": [
    "import calendar\n",
    "print(calendar.prcal(2015))"
   ]
  },
  {
   "cell_type": "code",
   "execution_count": 29,
   "metadata": {
    "tags": []
   },
   "outputs": [
    {
     "output_type": "stream",
     "name": "stdout",
     "text": "2015\n\n      January                   February                   March\nMo Tu We Th Fr Sa Su      Mo Tu We Th Fr Sa Su      Mo Tu We Th Fr Sa Su\n          1  2  3  4                         1                         1\n 5  6  7  8  9 10 11       2  3  4  5  6  7  8       2  3  4  5  6  7  8\n12 13 14 15 16 17 18       9 10 11 12 13 14 15       9 10 11 12 13 14 15\n19 20 21 22 23 24 25      16 17 18 19 20 21 22      16 17 18 19 20 21 22\n26 27 28 29 30 31         23 24 25 26 27 28         23 24 25 26 27 28 29\n                                                    30 31\n\n       April                      May                       June\nMo Tu We Th Fr Sa Su      Mo Tu We Th Fr Sa Su      Mo Tu We Th Fr Sa Su\n       1  2  3  4  5                   1  2  3       1  2  3  4  5  6  7\n 6  7  8  9 10 11 12       4  5  6  7  8  9 10       8  9 10 11 12 13 14\n13 14 15 16 17 18 19      11 12 13 14 15 16 17      15 16 17 18 19 20 21\n20 21 22 23 24 25 26      18 19 20 21 22 23 24      22 23 24 25 26 27 28\n27 28 29 30               25 26 27 28 29 30 31      29 30\n\n        July                     August                  September\nMo Tu We Th Fr Sa Su      Mo Tu We Th Fr Sa Su      Mo Tu We Th Fr Sa Su\n       1  2  3  4  5                      1  2          1  2  3  4  5  6\n 6  7  8  9 10 11 12       3  4  5  6  7  8  9       7  8  9 10 11 12 13\n13 14 15 16 17 18 19      10 11 12 13 14 15 16      14 15 16 17 18 19 20\n20 21 22 23 24 25 26      17 18 19 20 21 22 23      21 22 23 24 25 26 27\n27 28 29 30 31            24 25 26 27 28 29 30      28 29 30\n                          31\n\n      October                   November                  December\nMo Tu We Th Fr Sa Su      Mo Tu We Th Fr Sa Su      Mo Tu We Th Fr Sa Su\n          1  2  3  4                         1          1  2  3  4  5  6\n 5  6  7  8  9 10 11       2  3  4  5  6  7  8       7  8  9 10 11 12 13\n12 13 14 15 16 17 18       9 10 11 12 13 14 15      14 15 16 17 18 19 20\n19 20 21 22 23 24 25      16 17 18 19 20 21 22      21 22 23 24 25 26 27\n26 27 28 29 30 31         23 24 25 26 27 28 29      28 29 30 31\n                          30\n"
    }
   ],
   "source": [
    "calendar.prcal(2015)"
   ]
  },
  {
   "cell_type": "code",
   "execution_count": 30,
   "metadata": {
    "tags": []
   },
   "outputs": [
    {
     "output_type": "stream",
     "name": "stdout",
     "text": "December 2015\nMo Tu We Th Fr Sa Su\n    1  2  3  4  5  6\n 7  8  9 10 11 12 13\n14 15 16 17 18 19 20\n21 22 23 24 25 26 27\n28 29 30 31\n"
    }
   ],
   "source": [
    "calendar.prmonth(2015, 12)"
   ]
  },
  {
   "cell_type": "code",
   "execution_count": 31,
   "metadata": {},
   "outputs": [
    {
     "output_type": "execute_result",
     "data": {
      "text/plain": "3"
     },
     "metadata": {},
     "execution_count": 31
    }
   ],
   "source": [
    "calendar.weekday(2015, 12, 31)"
   ]
  },
  {
   "cell_type": "code",
   "execution_count": 34,
   "metadata": {},
   "outputs": [
    {
     "output_type": "execute_result",
     "data": {
      "text/plain": "(1, 31)"
     },
     "metadata": {},
     "execution_count": 34
    }
   ],
   "source": [
    "calendar.monthrange(2015,12)"
   ]
  },
  {
   "cell_type": "code",
   "execution_count": 35,
   "metadata": {},
   "outputs": [
    {
     "output_type": "execute_result",
     "data": {
      "text/plain": "0.4578932643721326"
     },
     "metadata": {},
     "execution_count": 35
    }
   ],
   "source": [
    "import random\n",
    "random.random()"
   ]
  },
  {
   "cell_type": "code",
   "execution_count": 36,
   "metadata": {},
   "outputs": [
    {
     "output_type": "execute_result",
     "data": {
      "text/plain": "10"
     },
     "metadata": {},
     "execution_count": 36
    }
   ],
   "source": [
    "random.randint(1,10)"
   ]
  },
  {
   "cell_type": "code",
   "execution_count": 37,
   "metadata": {},
   "outputs": [
    {
     "output_type": "execute_result",
     "data": {
      "text/plain": "35"
     },
     "metadata": {},
     "execution_count": 37
    }
   ],
   "source": [
    "random.randint(1,55)"
   ]
  },
  {
   "cell_type": "code",
   "execution_count": 40,
   "metadata": {
    "tags": []
   },
   "outputs": [
    {
     "output_type": "stream",
     "name": "stdout",
     "text": "1\n4\n5\n3\n2\n"
    }
   ],
   "source": [
    "#random_pop.py\n",
    "\n",
    "import random\n",
    "def random_pop(data):\n",
    "    number = random.randint(0, len(data)-1)\n",
    "    return data.pop(number)\n",
    "\n",
    "if __name__ == \"__main__\":\n",
    "    data = [1,2,3,4,5]\n",
    "    while data:\n",
    "        print(random_pop(data))"
   ]
  },
  {
   "cell_type": "code",
   "execution_count": 45,
   "metadata": {
    "tags": []
   },
   "outputs": [
    {
     "output_type": "stream",
     "name": "stdout",
     "text": "4\n2\n5\n1\n3\n"
    }
   ],
   "source": [
    "def random_pop(data):\n",
    "    number = random.choice(data)\n",
    "    data.remove(number)\n",
    "    return number\n",
    "\n",
    "if __name__ == \"__main__\":\n",
    "    data = [1,2,3,4,5]\n",
    "    while data:\n",
    "        print(random_pop(data))"
   ]
  },
  {
   "cell_type": "code",
   "execution_count": 46,
   "metadata": {},
   "outputs": [
    {
     "output_type": "execute_result",
     "data": {
      "text/plain": "[5, 2, 3, 4, 1]"
     },
     "metadata": {},
     "execution_count": 46
    }
   ],
   "source": [
    "import random\n",
    "data = [1,2,3,4,5]\n",
    "random.shuffle(data)\n",
    "data"
   ]
  },
  {
   "cell_type": "code",
   "execution_count": 47,
   "metadata": {},
   "outputs": [
    {
     "output_type": "execute_result",
     "data": {
      "text/plain": "True"
     },
     "metadata": {},
     "execution_count": 47
    }
   ],
   "source": [
    "import webbrowser\n",
    "webbrowser.open(\"http://google.com\")"
   ]
  },
  {
   "cell_type": "code",
   "execution_count": 48,
   "metadata": {},
   "outputs": [
    {
     "output_type": "execute_result",
     "data": {
      "text/plain": "True"
     },
     "metadata": {},
     "execution_count": 48
    }
   ],
   "source": [
    "webbrowser.open_new(\"http://google.com\")"
   ]
  },
  {
   "cell_type": "code",
   "execution_count": 49,
   "metadata": {},
   "outputs": [],
   "source": [
    "class Calculator:\n",
    "    def __init__(self):\n",
    "        self.value = 0\n",
    "    \n",
    "    def add(self, val):\n",
    "        self.value += val"
   ]
  },
  {
   "cell_type": "code",
   "execution_count": 50,
   "metadata": {},
   "outputs": [],
   "source": [
    "class UpgradeCalculator(Calculator):\n",
    "    def minus(self, val):\n",
    "        self.value -= val"
   ]
  },
  {
   "cell_type": "code",
   "execution_count": 51,
   "metadata": {
    "tags": []
   },
   "outputs": [
    {
     "output_type": "stream",
     "name": "stdout",
     "text": "3\n"
    }
   ],
   "source": [
    "cal = UpgradeCalculator()\n",
    "cal.add(10)\n",
    "cal.minus(7)\n",
    "\n",
    "print(cal.value)"
   ]
  },
  {
   "cell_type": "code",
   "execution_count": 52,
   "metadata": {},
   "outputs": [],
   "source": [
    "class MaxLimitCalculator(Calculator):\n",
    "    def add(self, val):\n",
    "        self.value += val\n",
    "        if self.value >= 100:\n",
    "            self.value = 100"
   ]
  },
  {
   "cell_type": "code",
   "execution_count": 53,
   "metadata": {
    "tags": []
   },
   "outputs": [
    {
     "output_type": "stream",
     "name": "stdout",
     "text": "100\n"
    }
   ],
   "source": [
    "cal = MaxLimitCalculator()\n",
    "cal.add(50)\n",
    "cal.add(60)\n",
    "\n",
    "print(cal.value)"
   ]
  },
  {
   "cell_type": "code",
   "execution_count": 54,
   "metadata": {},
   "outputs": [
    {
     "output_type": "execute_result",
     "data": {
      "text/plain": "False"
     },
     "metadata": {},
     "execution_count": 54
    }
   ],
   "source": [
    "all([1,2,abs(-3)-3])"
   ]
  },
  {
   "cell_type": "code",
   "execution_count": 55,
   "metadata": {},
   "outputs": [
    {
     "output_type": "execute_result",
     "data": {
      "text/plain": "True"
     },
     "metadata": {},
     "execution_count": 55
    }
   ],
   "source": [
    "chr(ord('a'))=='a'"
   ]
  },
  {
   "cell_type": "code",
   "execution_count": 56,
   "metadata": {},
   "outputs": [
    {
     "output_type": "execute_result",
     "data": {
      "text/plain": "[1, 3, 8]"
     },
     "metadata": {},
     "execution_count": 56
    }
   ],
   "source": [
    "list(filter(lambda x: x>0, [1,-2,3,-5,8,-3]))"
   ]
  },
  {
   "cell_type": "code",
   "execution_count": 57,
   "metadata": {},
   "outputs": [
    {
     "output_type": "execute_result",
     "data": {
      "text/plain": "234"
     },
     "metadata": {},
     "execution_count": 57
    }
   ],
   "source": [
    "int('0xea',16)"
   ]
  },
  {
   "cell_type": "code",
   "execution_count": 58,
   "metadata": {},
   "outputs": [
    {
     "output_type": "execute_result",
     "data": {
      "text/plain": "[3, 6, 9, 12]"
     },
     "metadata": {},
     "execution_count": 58
    }
   ],
   "source": [
    "list(map(lambda x: x*3, [1,2,3,4]))"
   ]
  },
  {
   "cell_type": "code",
   "execution_count": 63,
   "metadata": {},
   "outputs": [
    {
     "output_type": "execute_result",
     "data": {
      "text/plain": "-1"
     },
     "metadata": {},
     "execution_count": 63
    }
   ],
   "source": [
    "li = [-8,2,7,5,-3,5,0,1]\n",
    "sum((max(li), min(li)))"
   ]
  },
  {
   "cell_type": "code",
   "execution_count": 66,
   "metadata": {},
   "outputs": [
    {
     "output_type": "execute_result",
     "data": {
      "text/plain": "5.6667"
     },
     "metadata": {},
     "execution_count": 66
    }
   ],
   "source": [
    "round(17/3,4)"
   ]
  },
  {
   "cell_type": "code",
   "execution_count": 69,
   "metadata": {
    "tags": []
   },
   "outputs": [
    {
     "output_type": "stream",
     "name": "stdout",
     "text": "C 드라이브의 볼륨에는 이름이 없습니다.\n 볼륨 일련 번호: 867D-286A\n\n C:\\doit 디렉터리\n\n2020-08-17  오후 09:31    <DIR>          .\n2020-08-17  오후 09:31    <DIR>          ..\n2020-08-17  오후 02:45                12 .gitignore\n2020-08-17  오후 02:45    <DIR>          .vscode\n2020-08-17  오후 07:52               113 argv_test.py\n2020-08-17  오후 02:45             4,930 ch02-bool.ipynb\n2020-08-17  오후 02:45             9,727 ch02-dictionary.ipynb\n2020-08-17  오후 02:45             4,455 ch02-exercise.ipynb\n2020-08-17  오후 02:45             6,250 ch02-set.ipynb\n2020-08-17  오후 02:45             5,421 ch02-variable.ipynb\n2020-08-17  오후 02:45            13,280 ch03.ipynb\n2020-08-17  오후 02:45            23,581 ch04.ipynb\n2020-08-17  오후 09:08            21,842 ch05-1.ipynb\n2020-08-17  오후 07:46            45,686 ch05.ipynb\n2020-08-17  오후 02:45               747 ch05.py\n2020-08-17  오후 02:45               573 coffee.py\n2020-08-17  오후 08:27                 4 dst.txt\n2020-08-17  오후 02:45                35 foo.txt\n2020-08-17  오후 02:45    <DIR>          game\n2020-08-17  오후 02:45                16 hello.py\n2020-08-17  오후 02:45                15 hello2.py\n2020-08-17  오후 02:45               155 hello3.py\n2020-08-17  오후 02:45               243 marks1.py\n2020-08-17  오후 02:45               204 marks2.py\n2020-08-17  오후 02:45               189 marks3.py\n2020-08-17  오후 02:45               146 mod1.py\n2020-08-17  오후 02:45                64 modtest.py\n2020-08-17  오후 02:45               284 multistring.py\n2020-08-17  오후 09:36                76 myargv.py\n2020-08-08  오후 07:42                33 myexample.py\n2020-08-08  오후 07:57             1,383 myfirstnotebook.ipynb\n2020-08-17  오후 02:45    <DIR>          mymod\n2020-08-08  오후 09:13            14,782 Numbers.ipynb\n2020-08-17  오후 02:45               238 readline_test.py\n2020-08-17  오후 02:45                82 README.md\n2020-08-17  오후 02:45            12,565 sec3-1.ipynb\n2020-08-17  오후 02:45               343 simple.py\n2020-08-17  오후 08:26                 4 src.txt\n2020-08-17  오후 02:45               175 sys1.py\n2020-08-17  오후 07:43                 0 test\n2020-08-17  오후 02:45                38 test.txt\n2020-08-17  오후 09:15               356 thread_test.py\n2020-08-17  오후 02:45                72 vartest.py\n2020-08-17  오후 02:45               146 writedata.py\n2020-08-17  오후 02:45    <DIR>          __pycache__\n2020-08-17  오후 02:45                 0 새파일.txt\n2020-08-17  오후 02:45                 0 새파일2.txt\n2020-08-17  오후 02:45               333 새파일3.txt\n              42개 파일             168,598 바이트\n               6개 디렉터리  137,551,253,504 바이트 남음\n\n"
    }
   ],
   "source": [
    "import os\n",
    "os.chdir(\"C:\\doit\")\n",
    "result = os.popen(\"dir\")\n",
    "print(result.read())"
   ]
  },
  {
   "cell_type": "code",
   "execution_count": 70,
   "metadata": {},
   "outputs": [
    {
     "output_type": "execute_result",
     "data": {
      "text/plain": "['c:/doit\\\\argv_test.py',\n 'c:/doit\\\\ch05.py',\n 'c:/doit\\\\coffee.py',\n 'c:/doit\\\\hello.py',\n 'c:/doit\\\\hello2.py',\n 'c:/doit\\\\hello3.py',\n 'c:/doit\\\\marks1.py',\n 'c:/doit\\\\marks2.py',\n 'c:/doit\\\\marks3.py',\n 'c:/doit\\\\mod1.py',\n 'c:/doit\\\\modtest.py',\n 'c:/doit\\\\multistring.py',\n 'c:/doit\\\\myargv.py',\n 'c:/doit\\\\myexample.py',\n 'c:/doit\\\\readline_test.py',\n 'c:/doit\\\\simple.py',\n 'c:/doit\\\\sys1.py',\n 'c:/doit\\\\thread_test.py',\n 'c:/doit\\\\vartest.py',\n 'c:/doit\\\\writedata.py']"
     },
     "metadata": {},
     "execution_count": 70
    }
   ],
   "source": [
    "import glob\n",
    "glob.glob(\"c:/doit/*.py\")"
   ]
  },
  {
   "cell_type": "code",
   "execution_count": 71,
   "metadata": {},
   "outputs": [
    {
     "output_type": "execute_result",
     "data": {
      "text/plain": "'2020/08/17 21:42:54'"
     },
     "metadata": {},
     "execution_count": 71
    }
   ],
   "source": [
    "import time\n",
    "time.strftime(\"%Y/%m/%d %H:%M:%S\")"
   ]
  },
  {
   "cell_type": "code",
   "execution_count": 88,
   "metadata": {
    "tags": []
   },
   "outputs": [
    {
     "output_type": "stream",
     "name": "stdout",
     "text": "[1, 5, 17, 32, 35, 43]\n"
    }
   ],
   "source": [
    "import random\n",
    "result = []\n",
    "while len(result) <6:\n",
    "    num = random.randint(1,45)\n",
    "    if num not in result:\n",
    "        result.append(num)\n",
    "result.sort()\n",
    "print(result)"
   ]
  },
  {
   "cell_type": "code",
   "execution_count": null,
   "metadata": {},
   "outputs": [],
   "source": []
  }
 ]
}