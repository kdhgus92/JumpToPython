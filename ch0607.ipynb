{
 "metadata": {
  "language_info": {
   "codemirror_mode": {
    "name": "ipython",
    "version": 3
   },
   "file_extension": ".py",
   "mimetype": "text/x-python",
   "name": "python",
   "nbconvert_exporter": "python",
   "pygments_lexer": "ipython3",
   "version": "3.8.3-final"
  },
  "orig_nbformat": 2,
  "kernelspec": {
   "name": "python_defaultSpec_1597848306853",
   "display_name": "Python 3.8.3 32-bit"
  }
 },
 "nbformat": 4,
 "nbformat_minor": 2,
 "cells": [
  {
   "cell_type": "code",
   "execution_count": null,
   "metadata": {
    "tags": []
   },
   "outputs": [],
   "source": [
    "n = 1\n",
    "while n < 1000:\n",
    "    print(n)\n",
    "    n+=1"
   ]
  },
  {
   "cell_type": "code",
   "execution_count": null,
   "metadata": {},
   "outputs": [],
   "source": [
    "for n in range(1,1000):\n",
    "    print(n)"
   ]
  },
  {
   "cell_type": "code",
   "execution_count": null,
   "metadata": {},
   "outputs": [],
   "source": [
    "for n in range(1,1000):\n",
    "    if n%3 ==0:\n",
    "        print(n)"
   ]
  },
  {
   "cell_type": "code",
   "execution_count": 2,
   "metadata": {
    "tags": []
   },
   "outputs": [
    {
     "output_type": "stream",
     "name": "stdout",
     "text": "233168\n"
    }
   ],
   "source": [
    "result = 0\n",
    "for n in range(1,1000):\n",
    "    if n%3==0 or n%5==0:\n",
    "        result +=n\n",
    "print(result)"
   ]
  },
  {
   "cell_type": "code",
   "execution_count": 3,
   "metadata": {
    "tags": []
   },
   "outputs": [
    {
     "output_type": "stream",
     "name": "stdout",
     "text": "266333\n"
    }
   ],
   "source": [
    "#잘못된 풀이\n",
    "result = 0\n",
    "for n in range(1,1000):\n",
    "    if n%3==0:\n",
    "        result += n\n",
    "    if n%5==0:\n",
    "        result += n\n",
    "print(result)"
   ]
  },
  {
   "cell_type": "code",
   "execution_count": 8,
   "metadata": {
    "tags": []
   },
   "outputs": [
    {
     "output_type": "stream",
     "name": "stdout",
     "text": "1\n"
    }
   ],
   "source": [
    "def getTotalPage(m, n):\n",
    "    if m%n==0:\n",
    "        return m//n\n",
    "    else: \n",
    "        return m//n+1\n",
    "\n",
    "print(getTotalPage(5,10))"
   ]
  },
  {
   "cell_type": "code",
   "execution_count": 5,
   "metadata": {
    "tags": []
   },
   "outputs": [
    {
     "output_type": "stream",
     "name": "stdout",
     "text": "2\n"
    }
   ],
   "source": [
    "print(getTotalPage(15,10))"
   ]
  },
  {
   "cell_type": "code",
   "execution_count": 10,
   "metadata": {
    "tags": []
   },
   "outputs": [
    {
     "output_type": "stream",
     "name": "stdout",
     "text": "3\n"
    }
   ],
   "source": [
    "print(getTotalPage(25,10))"
   ]
  },
  {
   "cell_type": "code",
   "execution_count": 9,
   "metadata": {
    "tags": []
   },
   "outputs": [
    {
     "output_type": "stream",
     "name": "stdout",
     "text": "3\n"
    }
   ],
   "source": [
    "print(getTotalPage(30,10))"
   ]
  },
  {
   "cell_type": "markdown",
   "metadata": {},
   "source": [
    "정규식"
   ]
  },
  {
   "cell_type": "code",
   "execution_count": 1,
   "metadata": {
    "tags": []
   },
   "outputs": [
    {
     "output_type": "stream",
     "name": "stdout",
     "text": "\npark 800905-*******\nkim 700905-*******\n\n"
    }
   ],
   "source": [
    "data = \"\"\"\n",
    "park 800905-1049118\n",
    "kim 700905-1059119\n",
    "\"\"\"\n",
    "\n",
    "result = [] \n",
    "for line in data.split(\"\\n\"):\n",
    "    word_result = []\n",
    "    for word in line.split(\" \"):\n",
    "        if len(word) ==14 and word[:6].isdigit() and word[7:].isdigit():\n",
    "            word = word[:6]+\"-\"+\"*******\"\n",
    "        word_result.append(word)\n",
    "    result.append(\" \".join(word_result))\n",
    "print(\"\\n\".join(result))"
   ]
  },
  {
   "cell_type": "code",
   "execution_count": 2,
   "metadata": {
    "tags": []
   },
   "outputs": [
    {
     "output_type": "stream",
     "name": "stdout",
     "text": "\npark 800905-*******\nkim 700905-*******\n\n"
    }
   ],
   "source": [
    "import re\n",
    "\n",
    "data = \"\"\"\n",
    "park 800905-1049118\n",
    "kim 700905-1059119\n",
    "\"\"\"\n",
    "\n",
    "pat = re.compile(\"(\\d{6})[-]\\d{7}\")\n",
    "print(pat.sub(\"\\g<1>-*******\", data))"
   ]
  },
  {
   "cell_type": "code",
   "execution_count": 3,
   "metadata": {},
   "outputs": [],
   "source": [
    "import re\n",
    "p = re.compile('ab*')"
   ]
  },
  {
   "cell_type": "code",
   "execution_count": 4,
   "metadata": {
    "tags": []
   },
   "outputs": [
    {
     "output_type": "stream",
     "name": "stdout",
     "text": "<re.Match object; span=(0, 6), match='python'>\n"
    }
   ],
   "source": [
    "import re\n",
    "p = re.compile('[a-z]+')\n",
    "m = p.match(\"python\")\n",
    "print(m)"
   ]
  },
  {
   "cell_type": "code",
   "execution_count": 5,
   "metadata": {
    "tags": []
   },
   "outputs": [
    {
     "output_type": "stream",
     "name": "stdout",
     "text": "None\n"
    }
   ],
   "source": [
    "m = p.match(\"3 python\")\n",
    "print(m)"
   ]
  },
  {
   "cell_type": "code",
   "execution_count": 6,
   "metadata": {
    "tags": []
   },
   "outputs": [
    {
     "output_type": "stream",
     "name": "stdout",
     "text": "<re.Match object; span=(0, 6), match='python'>\n"
    }
   ],
   "source": [
    "m = p.search(\"python\")\n",
    "print(m)"
   ]
  },
  {
   "cell_type": "code",
   "execution_count": null,
   "metadata": {},
   "outputs": [],
   "source": []
  }
 ]
}